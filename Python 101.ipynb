{
 "cells": [
  {
   "cell_type": "code",
   "execution_count": null,
   "metadata": {},
   "outputs": [
    {
     "name": "stdout",
     "output_type": "stream",
     "text": [
      "mi dia estuvo :  un poco pesado pero bien\n"
     ]
    }
   ],
   "source": [
    "#como estuvo mi dia\n",
    "rating= (input(\"como estuvo tu día\"))\n",
    "\n",
    "print(\"mi dia estuvo : \", rating)"
   ]
  },
  {
   "cell_type": "code",
   "execution_count": null,
   "metadata": {},
   "outputs": [
    {
     "name": "stdout",
     "output_type": "stream",
     "text": [
      "una historia de amor fue escrito por regis linda\n"
     ]
    }
   ],
   "source": [
    "titulo= (input(\"Proporciona el autor: \"))\n",
    "libro= (input(\"Proporciona el libro: \"))\n",
    "print(libro, \"fue escrito por\", titulo)"
   ]
  },
  {
   "cell_type": "code",
   "execution_count": null,
   "metadata": {},
   "outputs": [
    {
     "name": "stdout",
     "output_type": "stream",
     "text": [
      "el area del rectangulo es de 60\n",
      "el perimetro del rectangulo es 32\n"
     ]
    }
   ],
   "source": [
    "## area de rectangulo\n",
    "base=int(input(\"proporciona la base del retangulo: \"))\n",
    "altura=int(input(\"proporciona la altura del rectangulo: \"))\n",
    "print(\"el area del rectangulo es de\", base*altura)\n",
    "print(\"el perimetro del rectangulo es\", (base*2)+(altura*2))"
   ]
  },
  {
   "cell_type": "code",
   "execution_count": null,
   "metadata": {},
   "outputs": [
    {
     "name": "stdout",
     "output_type": "stream",
     "text": [
      "El valor de a 15 es inpar\n"
     ]
    }
   ],
   "source": [
    "a= int(input(\"EScribe un  valor numérico : \"))\n",
    "if a % 2 == 0:\n",
    "    print(f\"El valor de a {a} es par\")\n",
    "else:\n",
    "    print(f\"El valor de a {a} es inpar\")"
   ]
  },
  {
   "cell_type": "code",
   "execution_count": null,
   "metadata": {},
   "outputs": [],
   "source": []
  },
  {
   "cell_type": "code",
   "execution_count": null,
   "metadata": {},
   "outputs": [
    {
     "name": "stdout",
     "output_type": "stream",
     "text": [
      "la persona con edad de 19 es adulta\n"
     ]
    }
   ],
   "source": [
    "edadadulto = 18\n",
    "edadpersona=int(input(\"ingresa tu edad\" ))\n",
    "if edadpersona > edadadulto:\n",
    "    print(f\"la persona con edad de {edadpersona} es adulta\")\n",
    "elif edadpersona==18:\n",
    "    print(f\"la pesona de edad {edadpersona} a penas es adulta\")\n",
    "else:\n",
    "    print(f\"la persona con edad de {edadpersona} es menor\")\n",
    "        \n"
   ]
  },
  {
   "cell_type": "code",
   "execution_count": null,
   "metadata": {},
   "outputs": [
    {
     "name": "stdout",
     "output_type": "stream",
     "text": [
      "El valor -6 esta fuera de rango\n"
     ]
    }
   ],
   "source": [
    "# valores en un rango determinado de 0 a 5\n",
    "\n",
    "valor=int(input(\"el valor es: \"))\n",
    "valormax=5\n",
    "valormin=0\n",
    "dentrorango= valor >= valormin and (valor <= valormax)\n",
    "if dentrorango:\n",
    "    print(f\"El valor {valor} esta dentro del rango\")\n",
    "else:\n",
    "    print(f\"El valor {valor} esta fuera de rango\")\n",
    "    "
   ]
  },
  {
   "cell_type": "code",
   "execution_count": null,
   "metadata": {},
   "outputs": [
    {
     "name": "stdout",
     "output_type": "stream",
     "text": [
      "nopuede asistir\n"
     ]
    }
   ],
   "source": [
    "# or para ver si un papá puede ir al juego de su hijo\n",
    "vacaciones= False\n",
    "descanso= False\n",
    "if  vacaciones or descanso:\n",
    "    print(\" puede asisitr\")\n",
    "else:\n",
    "    print(\"no puede asistir\")\n"
   ]
  },
  {
   "cell_type": "code",
   "execution_count": null,
   "metadata": {},
   "outputs": [
    {
     "name": "stdout",
     "output_type": "stream",
     "text": [
      "si puede asistir\n"
     ]
    }
   ],
   "source": [
    "vacaciones= True\n",
    "descanso= False\n",
    "if not vacaciones or descanso:\n",
    "    print(\"no puede asisitr\")\n",
    "else:\n",
    "    print(\"si puede asistir\")\n"
   ]
  },
  {
   "cell_type": "code",
   "execution_count": null,
   "metadata": {},
   "outputs": [
    {
     "name": "stdout",
     "output_type": "stream",
     "text": [
      "True\n",
      "False\n",
      "dentro del rango de 20's\n"
     ]
    }
   ],
   "source": [
    "edad=int(input(\"la edad es de}:\"))\n",
    "\n",
    "veintes= edad >= 20 and edad <= 30\n",
    "print(veintes)\n",
    "treintas= edad >= 30 and edad <= 40\n",
    "print(treintas)\n",
    "if veintes or treintas:\n",
    "   # print(\"dentro del rango de 20's y 30's\")\n",
    "    if veintes:\n",
    "     print(\"dentro del rango de 20's\")\n",
    "    elif treintas:\n",
    "        print(\"dentro del rango de 30's\")\n",
    "    else:\n",
    "        print(\"no se encuentra en rango\")\n",
    "else:\n",
    "    print(\"no se encuentra en el rango\")"
   ]
  },
  {
   "cell_type": "code",
   "execution_count": null,
   "metadata": {},
   "outputs": [
    {
     "name": "stdout",
     "output_type": "stream",
     "text": [
      "el numero mayor es: 50\n"
     ]
    }
   ],
   "source": [
    "## ejercicio ver que valor es mayor \n",
    "num1= int(input(\"Ingrese el primer valor:  \"))\n",
    "num2= int(input(\"ingrese el segundo valor: \"))\n",
    "if num1 > num2:\n",
    "    print(f\"el numero mayor es: {num1}\")\n",
    "else:\n",
    "    print(f\"el numero mayor es: {num2} \")"
   ]
  },
  {
   "cell_type": "code",
   "execution_count": null,
   "metadata": {},
   "outputs": [
    {
     "name": "stdout",
     "output_type": "stream",
     "text": [
      "el nombre es libro de regus\n",
      "el id es 2000\n",
      "el precio es 30.4\n",
      "el envío es gratuito\n"
     ]
    }
   ],
   "source": [
    "#ejercicio de tienda de libro\n",
    "nombre= input(\"Ingresar el libro: \")\n",
    "id=int(input(\"ingresar id de libro: \"))\n",
    "precio=float(input(\"ingresar precio: \"))\n",
    "envío= input(\"indica si el envio es: \")\n",
    "print(f\"el nombre es {nombre}\")\n",
    "print(f\"el id es {id}\")\n",
    "print(f\"el precio es {precio}\")\n",
    "if envío == \"True\":\n",
    "    print(\"el envío es gratuito\")\n",
    "elif envío == \"False\":\n",
    "    print(\"el envio no es gratuito\")\n",
    "else:\n",
    "    print(\"el valor es incorreto ingrese True/False\")\n"
   ]
  },
  {
   "cell_type": "code",
   "execution_count": null,
   "metadata": {},
   "outputs": [
    {
     "name": "stdout",
     "output_type": "stream",
     "text": [
      "50\n"
     ]
    }
   ],
   "source": [
    "x= 20\n",
    "y= 30\n",
    "z= x+y\n",
    "print(z)"
   ]
  },
  {
   "cell_type": "code",
   "execution_count": null,
   "metadata": {},
   "outputs": [
    {
     "name": "stdout",
     "output_type": "stream",
     "text": [
      "en el mes 10 la estacion es otoño\n"
     ]
    }
   ],
   "source": [
    "#calcular la estacion del año\n",
    "mes= int(input(\"Define el mes en número (1-12): \")) \n",
    "estacion= None\n",
    "if mes == 12 or mes == 1 or mes == 2:\n",
    "    estacion= \"invierno\"\n",
    "elif mes == 3 or mes == 4 or mes == 5:\n",
    "    estacion= \"primavera\"\n",
    "elif mes == 6 or mes == 7 or mes == 8:\n",
    "    estacion = \"vernano\"\n",
    "elif mes == 9 or mes == 10 or mes == 11:\n",
    "    estacion= \"otoño\"\n",
    "    print(f\"en el mes {mes} la estacion es {estacion}\")\n",
    "else:\n",
    "    print(\"ingrese un mes del 1 al 12\")\n",
    "    "
   ]
  },
  {
   "cell_type": "code",
   "execution_count": null,
   "metadata": {},
   "outputs": [
    {
     "name": "stdout",
     "output_type": "stream",
     "text": [
      " adolesencia wu\n",
      "tu edad es, 10, None\n"
     ]
    }
   ],
   "source": [
    "edad= int(input(\"Proporciona tu edad: \"))\n",
    "mensaje= None\n",
    "if  0 <= edad < 10:\n",
    "    mensaje=\"la infancia es increible \"\n",
    "    print(f\"la infc es wow\")\n",
    "elif 10 <= edad < 20:\n",
    "    print(f\" adolesencia wu\")\n",
    "else: \n",
    "    print(\"no existe\")\n",
    "print(f\"tu edad es, {edad}, {mensaje}\")"
   ]
  },
  {
   "cell_type": "code",
   "execution_count": null,
   "metadata": {},
   "outputs": [
    {
     "name": "stdout",
     "output_type": "stream",
     "text": [
      "Con 4, obtuviste Obtuviste una F\n"
     ]
    }
   ],
   "source": [
    "## crear un sistema de calificaciones\n",
    "calificacion=int(input(\"Ingresar la calificación: \"))\n",
    "Mensaje = None\n",
    "if 9 <= calificacion <= 10:\n",
    "    Mensaje = \"obtuviste una 'A'\"\n",
    "elif 8 <= calificacion < 9:\n",
    "    Mensaje = \"Obtuviste una B\"\n",
    "elif 7 <= calificacion < 8:\n",
    "    Mensaje = \"Obtuviste una C\"\n",
    "elif 6 <= calificacion < 7:\n",
    "    Mensaje = \"Obtuviste una D\"\n",
    "elif 0<= calificacion < 6:\n",
    "    Mensaje = \"Obtuviste una F\"\n",
    "else:\n",
    "    print(\"valor no admitido\")\n",
    "print(f\"Con {calificacion}, obtuviste {Mensaje}\")"
   ]
  },
  {
   "cell_type": "code",
   "execution_count": null,
   "metadata": {},
   "outputs": [],
   "source": [
    "# While NO EJECUTAR SIN HABER PUESTO NADA\n",
    "#Condicion = True\n",
    "#while Condicion:\n",
    "#       print(\"ejecutando\")\n",
    "#else:\n",
    "#    print(\"fin\")"
   ]
  },
  {
   "cell_type": "code",
   "execution_count": null,
   "metadata": {},
   "outputs": [
    {
     "name": "stdout",
     "output_type": "stream",
     "text": [
      "0\n",
      "1\n",
      "2\n",
      "3\n",
      "4\n",
      "5\n",
      "6\n",
      "7\n",
      "8\n",
      "9\n",
      "fin\n"
     ]
    }
   ],
   "source": [
    "contador = 0\n",
    "while contador < 10:\n",
    "    print(contador)\n",
    "    contador += 1\n",
    "else:\n",
    "    print(\"fin\")\n"
   ]
  },
  {
   "cell_type": "code",
   "execution_count": null,
   "metadata": {},
   "outputs": [
    {
     "name": "stdout",
     "output_type": "stream",
     "text": [
      "0\n",
      "1\n",
      "2\n",
      "3\n",
      "4\n",
      "5\n",
      "fin\n"
     ]
    }
   ],
   "source": [
    "# valores del 0 al 5 con while\n",
    "maximo= 5\n",
    "contador = 0\n",
    "while contador <= 5:\n",
    "    print(contador)\n",
    "    contador += 1\n",
    "else:\n",
    "    print(\"fin\")"
   ]
  },
  {
   "cell_type": "code",
   "execution_count": 15,
   "metadata": {},
   "outputs": [
    {
     "name": "stdout",
     "output_type": "stream",
     "text": [
      "5\n",
      "4\n",
      "3\n",
      "2\n",
      "1\n",
      "fin\n"
     ]
    }
   ],
   "source": [
    "min= 1\n",
    "contador = 5\n",
    "while contador >= min :\n",
    "    print(contador)\n",
    "    contador -= 1\n",
    "else:\n",
    "    print(\"fin\")"
   ]
  }
 ],
 "metadata": {
  "kernelspec": {
   "display_name": "Python 3.10.6 64-bit",
   "language": "python",
   "name": "python3"
  },
  "language_info": {
   "codemirror_mode": {
    "name": "ipython",
    "version": 3
   },
   "file_extension": ".py",
   "mimetype": "text/x-python",
   "name": "python",
   "nbconvert_exporter": "python",
   "pygments_lexer": "ipython3",
   "version": "3.10.6"
  },
  "orig_nbformat": 4,
  "vscode": {
   "interpreter": {
    "hash": "731c08deb8e2f382c07f2f00103ea8ccb13dc3832dbecc421d0ba299a8b93a84"
   }
  }
 },
 "nbformat": 4,
 "nbformat_minor": 2
}
